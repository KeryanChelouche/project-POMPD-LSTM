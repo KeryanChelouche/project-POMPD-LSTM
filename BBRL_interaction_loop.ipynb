{
  "nbformat": 4,
  "nbformat_minor": 0,
  "metadata": {
    "colab": {
      "provenance": [],
      "include_colab_link": true
    },
    "kernelspec": {
      "name": "python3",
      "display_name": "Python 3"
    }
  },
  "cells": [
    {
      "cell_type": "markdown",
      "metadata": {
        "id": "view-in-github",
        "colab_type": "text"
      },
      "source": [
        "<a href=\"https://colab.research.google.com/github/KeryanChelouche/project-POMPD-LSTM/blob/main/BBRL_interaction_loop.ipynb\" target=\"_parent\"><img src=\"https://colab.research.google.com/assets/colab-badge.svg\" alt=\"Open In Colab\"/></a>"
      ]
    },
    {
      "cell_type": "markdown",
      "source": [
        "# BBRL in practice: the interaction loop"
      ],
      "metadata": {
        "id": "QEZrc4hX3Lq8"
      }
    },
    {
      "cell_type": "markdown",
      "source": [
        "## Outlook"
      ],
      "metadata": {
        "id": "QcPH8heX3Tfo"
      }
    },
    {
      "cell_type": "markdown",
      "metadata": {
        "id": "hyyN-2qyK_T2"
      },
      "source": [
        "In this notebook, we start practicing with the BBRL model, which is explained in [this notebook](https://colab.research.google.com/drive/1_yp-JKkxh_P8Yhctulqm0IrLbE41oK1p?usp=sharing). We just implement a simple interaction loop.\n"
      ]
    },
    {
      "cell_type": "markdown",
      "source": [
        "What you will see here is very close to what Ludovic Denoyer shows in [this video](https://www.youtube.com/watch?v=CSkkoq_k5zU)."
      ],
      "metadata": {
        "id": "awuajxx7femU"
      }
    },
    {
      "cell_type": "markdown",
      "source": [
        "# Installation"
      ],
      "metadata": {
        "id": "MwRp50w1crBw"
      }
    },
    {
      "cell_type": "markdown",
      "source": [
        "Just run the following cell."
      ],
      "metadata": {
        "id": "MIPSHXzucv9z"
      }
    },
    {
      "cell_type": "markdown",
      "source": [
        "Note the trick: we first try to import, if it fails we install the github repository and import again."
      ],
      "metadata": {
        "id": "pmqxcBjCdBGr"
      }
    },
    {
      "cell_type": "code",
      "metadata": {
        "id": "gWskDE2c9WoN",
        "colab": {
          "base_uri": "https://localhost:8080/",
          "height": 1000
        },
        "outputId": "2c35fea5-ef26-4e71-9d71-fb1b42f0f174"
      },
      "source": [
        "try:\n",
        "  import bbrl\n",
        "except ImportError:\n",
        "  !pip install git+https://github.com/osigaud/bbrl.git\n",
        "  import bbrl"
      ],
      "execution_count": null,
      "outputs": [
        {
          "output_type": "stream",
          "name": "stdout",
          "text": [
            "Looking in indexes: https://pypi.org/simple, https://us-python.pkg.dev/colab-wheels/public/simple/\n",
            "Collecting git+https://github.com/osigaud/bbrl.git\n",
            "  Cloning https://github.com/osigaud/bbrl.git to /tmp/pip-req-build-_g7tvfvr\n",
            "  Running command git clone -q https://github.com/osigaud/bbrl.git /tmp/pip-req-build-_g7tvfvr\n",
            "Collecting my_gym@ git+https://github.com/osigaud/my_gym.git\n",
            "  Cloning https://github.com/osigaud/my_gym.git to /tmp/pip-install-kc6r__9y/my-gym_0ea4ceddb16b4d75948548ccd9d2c492\n",
            "  Running command git clone -q https://github.com/osigaud/my_gym.git /tmp/pip-install-kc6r__9y/my-gym_0ea4ceddb16b4d75948548ccd9d2c492\n",
            "Collecting protobuf==3.20.1\n",
            "  Downloading protobuf-3.20.1-cp37-cp37m-manylinux_2_5_x86_64.manylinux1_x86_64.whl (1.0 MB)\n",
            "\u001b[K     |████████████████████████████████| 1.0 MB 14.7 MB/s \n",
            "\u001b[?25hRequirement already satisfied: torch>=1.9.0 in /usr/local/lib/python3.7/dist-packages (from bbrl==0.0.1) (1.11.0+cu113)\n",
            "Requirement already satisfied: torchvision in /usr/local/lib/python3.7/dist-packages (from bbrl==0.0.1) (0.12.0+cu113)\n",
            "Collecting gym==0.21.0\n",
            "  Downloading gym-0.21.0.tar.gz (1.5 MB)\n",
            "\u001b[K     |████████████████████████████████| 1.5 MB 56.4 MB/s \n",
            "\u001b[?25hRequirement already satisfied: tensorboard in /usr/local/lib/python3.7/dist-packages (from bbrl==0.0.1) (2.8.0)\n",
            "Requirement already satisfied: tqdm in /usr/local/lib/python3.7/dist-packages (from bbrl==0.0.1) (4.64.0)\n",
            "Collecting hydra-core\n",
            "  Downloading hydra_core-1.2.0-py3-none-any.whl (151 kB)\n",
            "\u001b[K     |████████████████████████████████| 151 kB 63.7 MB/s \n",
            "\u001b[?25hRequirement already satisfied: numpy in /usr/local/lib/python3.7/dist-packages (from bbrl==0.0.1) (1.21.6)\n",
            "Requirement already satisfied: pandas in /usr/local/lib/python3.7/dist-packages (from bbrl==0.0.1) (1.3.5)\n",
            "Requirement already satisfied: opencv-python in /usr/local/lib/python3.7/dist-packages (from bbrl==0.0.1) (4.1.2.30)\n",
            "Collecting xformers>=0.0.3\n",
            "  Downloading xformers-0.0.11.tar.gz (219 kB)\n",
            "\u001b[K     |████████████████████████████████| 219 kB 40.7 MB/s \n",
            "\u001b[?25hCollecting omegaconf\n",
            "  Downloading omegaconf-2.2.2-py3-none-any.whl (79 kB)\n",
            "\u001b[K     |████████████████████████████████| 79 kB 9.1 MB/s \n",
            "\u001b[?25hRequirement already satisfied: matplotlib in /usr/local/lib/python3.7/dist-packages (from bbrl==0.0.1) (3.2.2)\n",
            "Requirement already satisfied: seaborn in /usr/local/lib/python3.7/dist-packages (from bbrl==0.0.1) (0.11.2)\n",
            "Collecting mazemdp@ git+https://github.com/osigaud/SimpleMazeMDP.git\n",
            "  Cloning https://github.com/osigaud/SimpleMazeMDP.git to /tmp/pip-install-kc6r__9y/mazemdp_33d0c53371dc4db9982dcd117e9113f6\n",
            "  Running command git clone -q https://github.com/osigaud/SimpleMazeMDP.git /tmp/pip-install-kc6r__9y/mazemdp_33d0c53371dc4db9982dcd117e9113f6\n",
            "Collecting Box2D\n",
            "  Downloading Box2D-2.3.10-cp37-cp37m-manylinux1_x86_64.whl (1.3 MB)\n",
            "\u001b[K     |████████████████████████████████| 1.3 MB 59.8 MB/s \n",
            "\u001b[?25hRequirement already satisfied: cloudpickle>=1.2.0 in /usr/local/lib/python3.7/dist-packages (from gym==0.21.0->bbrl==0.0.1) (1.3.0)\n",
            "Requirement already satisfied: importlib_metadata>=4.8.1 in /usr/local/lib/python3.7/dist-packages (from gym==0.21.0->bbrl==0.0.1) (4.11.4)\n",
            "Requirement already satisfied: typing-extensions>=3.6.4 in /usr/local/lib/python3.7/dist-packages (from importlib_metadata>=4.8.1->gym==0.21.0->bbrl==0.0.1) (4.2.0)\n",
            "Requirement already satisfied: zipp>=0.5 in /usr/local/lib/python3.7/dist-packages (from importlib_metadata>=4.8.1->gym==0.21.0->bbrl==0.0.1) (3.8.0)\n",
            "Collecting pyre-extensions==0.0.23\n",
            "  Downloading pyre_extensions-0.0.23-py3-none-any.whl (11 kB)\n",
            "Collecting typing-inspect\n",
            "  Downloading typing_inspect-0.7.1-py3-none-any.whl (8.4 kB)\n",
            "Requirement already satisfied: packaging in /usr/local/lib/python3.7/dist-packages (from hydra-core->bbrl==0.0.1) (21.3)\n",
            "Requirement already satisfied: importlib-resources in /usr/local/lib/python3.7/dist-packages (from hydra-core->bbrl==0.0.1) (5.7.1)\n",
            "Collecting antlr4-python3-runtime==4.9.*\n",
            "  Downloading antlr4-python3-runtime-4.9.3.tar.gz (117 kB)\n",
            "\u001b[K     |████████████████████████████████| 117 kB 59.0 MB/s \n",
            "\u001b[?25hCollecting PyYAML>=5.1.0\n",
            "  Downloading PyYAML-6.0-cp37-cp37m-manylinux_2_5_x86_64.manylinux1_x86_64.manylinux_2_12_x86_64.manylinux2010_x86_64.whl (596 kB)\n",
            "\u001b[K     |████████████████████████████████| 596 kB 54.1 MB/s \n",
            "\u001b[?25hRequirement already satisfied: pyparsing!=2.0.4,!=2.1.2,!=2.1.6,>=2.0.1 in /usr/local/lib/python3.7/dist-packages (from matplotlib->bbrl==0.0.1) (3.0.9)\n",
            "Requirement already satisfied: python-dateutil>=2.1 in /usr/local/lib/python3.7/dist-packages (from matplotlib->bbrl==0.0.1) (2.8.2)\n",
            "Requirement already satisfied: cycler>=0.10 in /usr/local/lib/python3.7/dist-packages (from matplotlib->bbrl==0.0.1) (0.11.0)\n",
            "Requirement already satisfied: kiwisolver>=1.0.1 in /usr/local/lib/python3.7/dist-packages (from matplotlib->bbrl==0.0.1) (1.4.2)\n",
            "Requirement already satisfied: six>=1.5 in /usr/local/lib/python3.7/dist-packages (from python-dateutil>=2.1->matplotlib->bbrl==0.0.1) (1.15.0)\n",
            "Requirement already satisfied: pytz>=2017.3 in /usr/local/lib/python3.7/dist-packages (from pandas->bbrl==0.0.1) (2022.1)\n",
            "Requirement already satisfied: scipy>=1.0 in /usr/local/lib/python3.7/dist-packages (from seaborn->bbrl==0.0.1) (1.4.1)\n",
            "Requirement already satisfied: grpcio>=1.24.3 in /usr/local/lib/python3.7/dist-packages (from tensorboard->bbrl==0.0.1) (1.46.3)\n",
            "Requirement already satisfied: tensorboard-data-server<0.7.0,>=0.6.0 in /usr/local/lib/python3.7/dist-packages (from tensorboard->bbrl==0.0.1) (0.6.1)\n",
            "Requirement already satisfied: tensorboard-plugin-wit>=1.6.0 in /usr/local/lib/python3.7/dist-packages (from tensorboard->bbrl==0.0.1) (1.8.1)\n",
            "Requirement already satisfied: google-auth-oauthlib<0.5,>=0.4.1 in /usr/local/lib/python3.7/dist-packages (from tensorboard->bbrl==0.0.1) (0.4.6)\n",
            "Requirement already satisfied: absl-py>=0.4 in /usr/local/lib/python3.7/dist-packages (from tensorboard->bbrl==0.0.1) (1.0.0)\n",
            "Requirement already satisfied: requests<3,>=2.21.0 in /usr/local/lib/python3.7/dist-packages (from tensorboard->bbrl==0.0.1) (2.23.0)\n",
            "Requirement already satisfied: setuptools>=41.0.0 in /usr/local/lib/python3.7/dist-packages (from tensorboard->bbrl==0.0.1) (57.4.0)\n",
            "Requirement already satisfied: werkzeug>=0.11.15 in /usr/local/lib/python3.7/dist-packages (from tensorboard->bbrl==0.0.1) (1.0.1)\n",
            "Requirement already satisfied: wheel>=0.26 in /usr/local/lib/python3.7/dist-packages (from tensorboard->bbrl==0.0.1) (0.37.1)\n",
            "Requirement already satisfied: markdown>=2.6.8 in /usr/local/lib/python3.7/dist-packages (from tensorboard->bbrl==0.0.1) (3.3.7)\n",
            "Requirement already satisfied: google-auth<3,>=1.6.3 in /usr/local/lib/python3.7/dist-packages (from tensorboard->bbrl==0.0.1) (1.35.0)\n",
            "Requirement already satisfied: cachetools<5.0,>=2.0.0 in /usr/local/lib/python3.7/dist-packages (from google-auth<3,>=1.6.3->tensorboard->bbrl==0.0.1) (4.2.4)\n",
            "Requirement already satisfied: rsa<5,>=3.1.4 in /usr/local/lib/python3.7/dist-packages (from google-auth<3,>=1.6.3->tensorboard->bbrl==0.0.1) (4.8)\n",
            "Requirement already satisfied: pyasn1-modules>=0.2.1 in /usr/local/lib/python3.7/dist-packages (from google-auth<3,>=1.6.3->tensorboard->bbrl==0.0.1) (0.2.8)\n",
            "Requirement already satisfied: requests-oauthlib>=0.7.0 in /usr/local/lib/python3.7/dist-packages (from google-auth-oauthlib<0.5,>=0.4.1->tensorboard->bbrl==0.0.1) (1.3.1)\n",
            "Requirement already satisfied: pyasn1<0.5.0,>=0.4.6 in /usr/local/lib/python3.7/dist-packages (from pyasn1-modules>=0.2.1->google-auth<3,>=1.6.3->tensorboard->bbrl==0.0.1) (0.4.8)\n",
            "Requirement already satisfied: chardet<4,>=3.0.2 in /usr/local/lib/python3.7/dist-packages (from requests<3,>=2.21.0->tensorboard->bbrl==0.0.1) (3.0.4)\n",
            "Requirement already satisfied: urllib3!=1.25.0,!=1.25.1,<1.26,>=1.21.1 in /usr/local/lib/python3.7/dist-packages (from requests<3,>=2.21.0->tensorboard->bbrl==0.0.1) (1.24.3)\n",
            "Requirement already satisfied: certifi>=2017.4.17 in /usr/local/lib/python3.7/dist-packages (from requests<3,>=2.21.0->tensorboard->bbrl==0.0.1) (2022.5.18.1)\n",
            "Requirement already satisfied: idna<3,>=2.5 in /usr/local/lib/python3.7/dist-packages (from requests<3,>=2.21.0->tensorboard->bbrl==0.0.1) (2.10)\n",
            "Requirement already satisfied: oauthlib>=3.0.0 in /usr/local/lib/python3.7/dist-packages (from requests-oauthlib>=0.7.0->google-auth-oauthlib<0.5,>=0.4.1->tensorboard->bbrl==0.0.1) (3.2.0)\n",
            "Requirement already satisfied: pillow!=8.3.*,>=5.3.0 in /usr/local/lib/python3.7/dist-packages (from torchvision->bbrl==0.0.1) (7.1.2)\n",
            "Collecting mypy-extensions>=0.3.0\n",
            "  Downloading mypy_extensions-0.4.3-py2.py3-none-any.whl (4.5 kB)\n",
            "Building wheels for collected packages: bbrl, my-gym, mazemdp, gym, xformers, antlr4-python3-runtime\n",
            "  Building wheel for bbrl (setup.py) ... \u001b[?25l\u001b[?25hdone\n",
            "  Created wheel for bbrl: filename=bbrl-0.0.1-py3-none-any.whl size=39862 sha256=3b575b2b49f29bef0901ec86a3ea7e3e2f76529c8e40f0368e56da5908897b7a\n",
            "  Stored in directory: /tmp/pip-ephem-wheel-cache-pn9xyp1q/wheels/c3/8e/75/20c9b8e7a65c576c58e1a303940d54011354125e1248b3aeb2\n",
            "  Building wheel for my-gym (setup.py) ... \u001b[?25l\u001b[?25hdone\n",
            "  Created wheel for my-gym: filename=my_gym-0.0.1-py3-none-any.whl size=13929 sha256=84e517f5685093406d42cb3bfa9011d6af5a857562a3a1131f5b7f2e51ae6fce\n",
            "  Stored in directory: /tmp/pip-ephem-wheel-cache-pn9xyp1q/wheels/1c/6c/5c/ae7a2f747d7e4018a92c506849842cf048d83e7bf07fa2b7b5\n",
            "  Building wheel for mazemdp (setup.py) ... \u001b[?25l\u001b[?25hdone\n",
            "  Created wheel for mazemdp: filename=mazemdp-0.0.0-py3-none-any.whl size=13712 sha256=4ae3b3b95f685e03f2faed6b232901f3d4697541562f406d0cc3db30f70497e2\n",
            "  Stored in directory: /tmp/pip-ephem-wheel-cache-pn9xyp1q/wheels/af/fb/6d/924ef6fbd5b3be612a3bd67dde1534a9ff066da1153c149542\n",
            "  Building wheel for gym (setup.py) ... \u001b[?25l\u001b[?25hdone\n",
            "  Created wheel for gym: filename=gym-0.21.0-py3-none-any.whl size=1616822 sha256=dcc73de1bab7a76777865d6f2a455a47551473445a900476b539aed20b8ad9c6\n",
            "  Stored in directory: /root/.cache/pip/wheels/76/ee/9c/36bfe3e079df99acf5ae57f4e3464ff2771b34447d6d2f2148\n",
            "  Building wheel for xformers (setup.py) ... \u001b[?25l\u001b[?25hdone\n",
            "  Created wheel for xformers: filename=xformers-0.0.11-cp37-cp37m-linux_x86_64.whl size=4962295 sha256=a7763ab5e33a30475affb56085b2cb33613ca76ef36432dacfe5429e188b8a91\n",
            "  Stored in directory: /root/.cache/pip/wheels/cd/68/bc/dfcdbce20dbf08da5f0ae62a75f270f20b2be0c8bb0f8c1587\n",
            "  Building wheel for antlr4-python3-runtime (setup.py) ... \u001b[?25l\u001b[?25hdone\n",
            "  Created wheel for antlr4-python3-runtime: filename=antlr4_python3_runtime-4.9.3-py3-none-any.whl size=144575 sha256=6a6a2972b75fc5916aa3f44fcf3e243cf29682095f7099aaf7c013aef721c322\n",
            "  Stored in directory: /root/.cache/pip/wheels/8b/8d/53/2af8772d9aec614e3fc65e53d4a993ad73c61daa8bbd85a873\n",
            "Successfully built bbrl my-gym mazemdp gym xformers antlr4-python3-runtime\n",
            "Installing collected packages: mypy-extensions, typing-inspect, PyYAML, antlr4-python3-runtime, pyre-extensions, protobuf, omegaconf, mazemdp, gym, Box2D, xformers, my-gym, hydra-core, bbrl\n",
            "  Attempting uninstall: PyYAML\n",
            "    Found existing installation: PyYAML 3.13\n",
            "    Uninstalling PyYAML-3.13:\n",
            "      Successfully uninstalled PyYAML-3.13\n",
            "  Attempting uninstall: protobuf\n",
            "    Found existing installation: protobuf 3.17.3\n",
            "    Uninstalling protobuf-3.17.3:\n",
            "      Successfully uninstalled protobuf-3.17.3\n",
            "  Attempting uninstall: gym\n",
            "    Found existing installation: gym 0.17.3\n",
            "    Uninstalling gym-0.17.3:\n",
            "      Successfully uninstalled gym-0.17.3\n",
            "\u001b[31mERROR: pip's dependency resolver does not currently take into account all the packages that are installed. This behaviour is the source of the following dependency conflicts.\n",
            "tensorflow 2.8.2+zzzcolab20220527125636 requires protobuf<3.20,>=3.9.2, but you have protobuf 3.20.1 which is incompatible.\u001b[0m\n",
            "Successfully installed Box2D-2.3.10 PyYAML-6.0 antlr4-python3-runtime-4.9.3 bbrl-0.0.1 gym-0.21.0 hydra-core-1.2.0 mazemdp-0.0.0 my-gym-0.0.1 mypy-extensions-0.4.3 omegaconf-2.2.2 protobuf-3.20.1 pyre-extensions-0.0.23 typing-inspect-0.7.1 xformers-0.0.11\n"
          ]
        },
        {
          "output_type": "display_data",
          "data": {
            "application/vnd.colab-display-data+json": {
              "pip_warning": {
                "packages": [
                  "google",
                  "pydevd_plugins"
                ]
              }
            }
          },
          "metadata": {}
        }
      ]
    },
    {
      "cell_type": "code",
      "source": [
        "import torch\n"
      ],
      "metadata": {
        "id": "jvsrkHIa7wYX"
      },
      "execution_count": null,
      "outputs": []
    },
    {
      "cell_type": "markdown",
      "source": [
        "## BBRL imports"
      ],
      "metadata": {
        "id": "5LzpfNl37eTp"
      }
    },
    {
      "cell_type": "markdown",
      "source": [
        "As explained in [the white paper](https://arxiv.org/pdf/2110.07910.pdf), everything in SaLinA (and also in BBRL) is an Agent."
      ],
      "metadata": {
        "id": "Ql4Py3sz7W2Y"
      }
    },
    {
      "cell_type": "markdown",
      "source": [
        "This construct is defined in [the bbrl/agents/agent.py](https://github.com/osigaud/bbrl/blob/master/bbrl/agents/agent.py) file as the Agent class."
      ],
      "metadata": {
        "id": "Z2vcM-la7LVp"
      }
    },
    {
      "cell_type": "markdown",
      "source": [
        "Any Agent class should come with a `forward(self, t, **kwargs)` method where t represents a time step."
      ],
      "metadata": {
        "id": "mv02T_Yg05xO"
      }
    },
    {
      "cell_type": "markdown",
      "source": [
        "Some of the comments below are just copy-pasted from the paper or from the code."
      ],
      "metadata": {
        "id": "X7PycXB274ZP"
      }
    },
    {
      "cell_type": "code",
      "source": [
        "from bbrl.workspace import Workspace\n",
        "\n",
        "from bbrl.agents.agent import Agent\n",
        "\n",
        "# Agents(agent1,agent2,agent3,...) executes the different agents the one after the other\n",
        "# TemporalAgent(agent) executes an agent (e.g an Agent) over multiple timesteps in the workspace, \n",
        "# or until a given condition is reached\n",
        "from bbrl.agents import Agents, TemporalAgent\n",
        "\n",
        "# GymAgent (resp. AutoResetGymAgent) are agents able to execute a batch of gym environments\n",
        "# without (resp. with) auto-resetting. These agents produce multiple variables in the workspace: \n",
        "# ’env/env_obs’, ’env/reward’, ’env/timestep’, ’env/done’, ’env/initial_state’, ’env/cumulated_reward’, \n",
        "# ... When called at timestep t=0, then the environments are automatically reset. \n",
        "# At timestep t>0, these agents will read the ’action’ variable in the workspace at time t − 1\n",
        "from bbrl.agents.gyma import AutoResetGymAgent, NoAutoResetGymAgent"
      ],
      "metadata": {
        "id": "fn-61mNmm1uF"
      },
      "execution_count": null,
      "outputs": []
    },
    {
      "cell_type": "markdown",
      "source": [
        "Remember that a workspace contains tensors, so everything written into a workspace should be a tensor. In the examples below the agents will first write random tensors."
      ],
      "metadata": {
        "id": "0VYx-5X55Ppl"
      }
    },
    {
      "cell_type": "markdown",
      "source": [
        "# Creating and running agents"
      ],
      "metadata": {
        "id": "RW8PjBXzYdRQ"
      }
    },
    {
      "cell_type": "markdown",
      "source": [
        "To play with the BBRL model, we first create a simple ActionAgent"
      ],
      "metadata": {
        "id": "e9-uF4ySu2ke"
      }
    },
    {
      "cell_type": "code",
      "source": [
        "class ActionAgent(Agent):\n",
        "    # Create the action agent\n",
        "    # This is a fake agent for illustration purpose\n",
        "    # In a standard ActionAgent, there should be an architecture \n",
        "    # to compute the action given the observation\n",
        "    def __init__(self):\n",
        "        super().__init__()\n",
        "\n",
        "    def forward(self, t, **kwargs):\n",
        "        obs = self.get((\"obs\", t))\n",
        "        action = torch.rand(1) # here should be function of the obs \n",
        "\n",
        "        self.set((\"action\", t), action)"
      ],
      "metadata": {
        "id": "ZKswqGnrsXAb"
      },
      "execution_count": null,
      "outputs": []
    },
    {
      "cell_type": "markdown",
      "source": [
        "Then we create an EnvAgent"
      ],
      "metadata": {
        "id": "-Zw2bN0su6Uu"
      }
    },
    {
      "cell_type": "code",
      "source": [
        "class EnvAgent(Agent):\n",
        "  # Create the environment agent\n",
        "  # This is a fake agent for illustration purpose\n",
        "  # A standard EnvAgent would inherit from a GymAgent \n",
        "  def __init__(self):\n",
        "    super().__init__()\n",
        "\n",
        "  def forward(self, t, **kwargs):\n",
        "    if t==0:\n",
        "      # If we are in the first step, the agent has not acted yet\n",
        "      # A real GymAgent would call obs = reset()\n",
        "      obs = torch.rand(2)      \n",
        "      reward = torch.randint(low=0, high=5, size=[1])     \n",
        "      done = torch.zeros(1, dtype=torch.bool)\n",
        "    else:\n",
        "      # Here, a real GymAgent would call obs, reward, done, info = step(action)\n",
        "      action = self.get((\"action\", t-1)) # beware, we take the previous action\n",
        "      obs = torch.rand(2)           \n",
        "      reward = torch.randint(low=0, high=5, size=[1])       \n",
        "      done = torch.zeros(1, dtype=torch.bool)\n",
        "    self.set((\"obs\", t), obs)\n",
        "    self.set((\"reward\", t), reward)\n",
        "    self.set((\"done\", t), done)\n"
      ],
      "metadata": {
        "id": "Ze-bma4DtMQ_"
      },
      "execution_count": null,
      "outputs": []
    },
    {
      "cell_type": "markdown",
      "source": [
        "We bind them together into a TemporalAgent"
      ],
      "metadata": {
        "id": "xRHc2XD_u9su"
      }
    },
    {
      "cell_type": "code",
      "source": [
        "action_agent = ActionAgent()\n",
        "env_agent = EnvAgent()\n",
        "\n",
        "# Compose both previous agents\n",
        "composed_agent = Agents(env_agent, action_agent)\n",
        "  \n",
        "# Get a temporal agent that can be executed in a workspace\n",
        "t_agent = TemporalAgent(composed_agent)"
      ],
      "metadata": {
        "id": "nDteizkPvEzz"
      },
      "execution_count": null,
      "outputs": []
    },
    {
      "cell_type": "markdown",
      "source": [
        "And finally we execute it in the workspace"
      ],
      "metadata": {
        "id": "NYFD4-kGviQC"
      }
    },
    {
      "cell_type": "code",
      "source": [
        "# We create a workspace\n",
        "workspace = Workspace()\n",
        "\n",
        "# The temporal agent will be run for 10 steps on this workspace\n",
        "t_agent(workspace, t=0, n_steps=10)\n",
        "\n",
        "# We retrieve the information as they are stored into the workspace\n",
        "obs, action, reward, done = workspace[\"obs\", \"action\", \"reward\", \"done\"]\n",
        "\n",
        "# And we print them\n",
        "print(\"obs:\", obs)\n",
        "print(\"action:\", action)\n",
        "print(\"reward:\", reward)\n",
        "print(\"done:\", done)\n",
        "# You should see that each variable has been recorded for the number of specified \n",
        "# time steps..."
      ],
      "metadata": {
        "colab": {
          "base_uri": "https://localhost:8080/"
        },
        "id": "0uDlS_bMvmmp",
        "outputId": "f48514ab-c60c-48c0-ad72-fc5882ceae5c"
      },
      "execution_count": null,
      "outputs": [
        {
          "output_type": "stream",
          "name": "stdout",
          "text": [
            "obs: tensor([[0.4689, 0.4154],\n",
            "        [0.4670, 0.5493],\n",
            "        [0.6481, 0.6698],\n",
            "        [0.0290, 0.6147],\n",
            "        [0.5292, 0.7809],\n",
            "        [0.2537, 0.4671],\n",
            "        [0.8689, 0.9229],\n",
            "        [0.5004, 0.0675],\n",
            "        [0.5761, 0.1857],\n",
            "        [0.6349, 0.9387]])\n",
            "action: tensor([[0.1494],\n",
            "        [0.5670],\n",
            "        [0.2232],\n",
            "        [0.6347],\n",
            "        [0.9418],\n",
            "        [0.1383],\n",
            "        [0.3017],\n",
            "        [0.8173],\n",
            "        [0.0026],\n",
            "        [0.3141]])\n",
            "reward: tensor([[1],\n",
            "        [4],\n",
            "        [3],\n",
            "        [0],\n",
            "        [3],\n",
            "        [4],\n",
            "        [1],\n",
            "        [3],\n",
            "        [1],\n",
            "        [2]])\n",
            "done: tensor([[False],\n",
            "        [False],\n",
            "        [False],\n",
            "        [False],\n",
            "        [False],\n",
            "        [False],\n",
            "        [False],\n",
            "        [False],\n",
            "        [False],\n",
            "        [False]])\n"
          ]
        }
      ]
    },
    {
      "cell_type": "markdown",
      "source": [
        "## What's next?"
      ],
      "metadata": {
        "id": "eGzv9OxG-k5Z"
      }
    },
    {
      "cell_type": "markdown",
      "source": [
        "In [the next notebook](https://colab.research.google.com/drive/1Ui481r47fNHCQsQfKwdoNEVrEiqAEokh?usp=sharing) we will replace these simple random agents with real agents based on neural networks and a real environnement: we will use a neural network ActionAgent and an RL environment from gym to write an elementary RL loop."
      ],
      "metadata": {
        "id": "h4BkkTLZ-oJw"
      }
    }
  ]
}